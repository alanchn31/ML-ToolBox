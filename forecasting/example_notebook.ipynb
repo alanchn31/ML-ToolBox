{
 "cells": [
  {
   "cell_type": "code",
   "execution_count": 73,
   "metadata": {},
   "outputs": [],
   "source": [
    "import functools\n",
    "import pandas as pd\n",
    "import numpy as np\n",
    "import math\n",
    "import matplotlib.pyplot as plt\n",
    "import multiprocessing\n",
    "import seaborn as sns\n",
    "import warnings\n",
    "\n",
    "from lightgbm import LGBMRegressor\n",
    "\n",
    "from skforecast.preprocessing import RollingFeatures, series_long_to_dict\n",
    "from scipy.stats import f_oneway\n",
    "from statsmodels.tsa.seasonal import STL\n",
    "from mpire import WorkerPool\n",
    "\n",
    "from skforecast.recursive import ForecasterRecursive, ForecasterRecursiveMultiSeries\n",
    "from skforecast.direct import ForecasterDirect"
   ]
  },
  {
   "cell_type": "code",
   "execution_count": 59,
   "metadata": {},
   "outputs": [],
   "source": [
    "NUM_CPU_CORES = multiprocessing.cpu_count()\n",
    "LAGS = 14\n",
    "FORECAST_PERIOD = 14\n",
    "TARGET_COL = 'demand'\n",
    "RANDOM_SEED = 1234"
   ]
  },
  {
   "cell_type": "code",
   "execution_count": 3,
   "metadata": {},
   "outputs": [
    {
     "name": "stdout",
     "output_type": "stream",
     "text": [
      "/Users/alanchn31/Desktop/coupang_prep\n"
     ]
    }
   ],
   "source": [
    "!pwd"
   ]
  },
  {
   "cell_type": "code",
   "execution_count": 4,
   "metadata": {},
   "outputs": [],
   "source": [
    "df = pd.read_csv(\"data/demand_forecasting_dataset_large.csv\")"
   ]
  },
  {
   "cell_type": "code",
   "execution_count": 5,
   "metadata": {},
   "outputs": [],
   "source": [
    "# Random assign null values \n",
    "\n",
    "rand_missing_idx = np.random.randint(0, len(df), 10)\n",
    "\n",
    "for idx in rand_missing_idx:\n",
    "    df.loc[idx, 'demand'] = np.nan"
   ]
  },
  {
   "cell_type": "code",
   "execution_count": 6,
   "metadata": {},
   "outputs": [
    {
     "name": "stdout",
     "output_type": "stream",
     "text": [
      "% of null values in each column\n",
      "date             0.000000\n",
      "sku_id           0.000000\n",
      "category         0.000000\n",
      "region           0.000000\n",
      "price            0.000000\n",
      "promo_flag       0.000000\n",
      "stockout_flag    0.000000\n",
      "demand           0.013889\n",
      "dtype: float64\n"
     ]
    }
   ],
   "source": [
    "def summarize_df(df):\n",
    "    print(\"% of null values in each column\")\n",
    "    print(df.isnull().sum() / len(df)*100)\n",
    "\n",
    "summarize_df(df)"
   ]
  },
  {
   "cell_type": "code",
   "execution_count": 7,
   "metadata": {},
   "outputs": [],
   "source": [
    "def forward_fill_col(df, idx_cols, ffill_col):\n",
    "    df[ffill_col] = df.groupby(idx_cols)[ffill_col].ffill()\n",
    "    return df"
   ]
  },
  {
   "cell_type": "code",
   "execution_count": 8,
   "metadata": {},
   "outputs": [],
   "source": [
    "df2 = forward_fill_col(df,['sku_id', 'category', 'region'] , 'demand')"
   ]
  },
  {
   "cell_type": "code",
   "execution_count": 9,
   "metadata": {},
   "outputs": [],
   "source": [
    "def week_of_month(df):\n",
    "    df['week_of_month'] = pd.to_numeric(df['date'].dt.day/7)\n",
    "    df['week_of_month'] = df['week_of_month'].apply(lambda x: math.ceil(x))\n",
    "    return df\n",
    "\n",
    "def day_of_week(df):\n",
    "    df['day_of_week'] = df['date'].dt.day_name()\n",
    "    return df\n",
    "\n",
    "def gen_seasonal_feats(df):\n",
    "    df = week_of_month(df)\n",
    "    df = day_of_week(df)\n",
    "    return df"
   ]
  },
  {
   "cell_type": "code",
   "execution_count": 10,
   "metadata": {},
   "outputs": [],
   "source": [
    "df['date'] = pd.to_datetime(df['date'])"
   ]
  },
  {
   "cell_type": "code",
   "execution_count": 11,
   "metadata": {},
   "outputs": [],
   "source": [
    "df = gen_seasonal_feats(df)"
   ]
  },
  {
   "cell_type": "code",
   "execution_count": 12,
   "metadata": {},
   "outputs": [],
   "source": [
    "def calc_seasonal_strength(item_id, df_sub, period=7):\n",
    "    ts = df_sub['demand']\n",
    "    stl = STL(ts, period=period, robust=True)\n",
    "    result = stl.fit()\n",
    "    seasonal_strength = max(0, 1-np.var(result.seasonal) / (np.var(result.seasonal) + np.var(result.resid)))\n",
    "    seas_df = pd.DataFrame({\n",
    "        'item_id': [item_id],\n",
    "        'seas_strength': [seasonal_strength]})\n",
    "    return seas_df\n",
    "\n",
    "def test_week_of_month_seasonality(item_id, df_sub):\n",
    "    # Using F-test to check for deterministic seasonality\n",
    "    groups = [group['demand'].values for _, group in df_sub.groupby('week_of_month')]\n",
    "    ht_df = pd.DataFrame({\n",
    "        'item_id': [item_id],\n",
    "        'pvalue': [f_oneway(*groups).pvalue]})\n",
    "    return ht_df"
   ]
  },
  {
   "cell_type": "code",
   "execution_count": 13,
   "metadata": {},
   "outputs": [
    {
     "name": "stderr",
     "output_type": "stream",
     "text": [
      "100%|██████████| 400/400 [00:00<00:00, 1264.31it/s]\n"
     ]
    },
    {
     "data": {
      "text/html": [
       "<div>\n",
       "<style scoped>\n",
       "    .dataframe tbody tr th:only-of-type {\n",
       "        vertical-align: middle;\n",
       "    }\n",
       "\n",
       "    .dataframe tbody tr th {\n",
       "        vertical-align: top;\n",
       "    }\n",
       "\n",
       "    .dataframe thead th {\n",
       "        text-align: right;\n",
       "    }\n",
       "</style>\n",
       "<table border=\"1\" class=\"dataframe\">\n",
       "  <thead>\n",
       "    <tr style=\"text-align: right;\">\n",
       "      <th></th>\n",
       "      <th>date</th>\n",
       "      <th>sku_id</th>\n",
       "      <th>category</th>\n",
       "      <th>region</th>\n",
       "      <th>price</th>\n",
       "      <th>promo_flag</th>\n",
       "      <th>stockout_flag</th>\n",
       "      <th>demand</th>\n",
       "      <th>week_of_month</th>\n",
       "      <th>day_of_week</th>\n",
       "      <th>item_id</th>\n",
       "      <th>day_of_week_seas</th>\n",
       "    </tr>\n",
       "  </thead>\n",
       "  <tbody>\n",
       "    <tr>\n",
       "      <th>20386</th>\n",
       "      <td>2024-02-16</td>\n",
       "      <td>SKU029</td>\n",
       "      <td>Health</td>\n",
       "      <td>South</td>\n",
       "      <td>5.23</td>\n",
       "      <td>0</td>\n",
       "      <td>0</td>\n",
       "      <td>29.0</td>\n",
       "      <td>3</td>\n",
       "      <td>Friday</td>\n",
       "      <td>SKU029_Health_South</td>\n",
       "      <td>0.854094</td>\n",
       "    </tr>\n",
       "    <tr>\n",
       "      <th>20406</th>\n",
       "      <td>2024-03-07</td>\n",
       "      <td>SKU029</td>\n",
       "      <td>Health</td>\n",
       "      <td>South</td>\n",
       "      <td>4.18</td>\n",
       "      <td>1</td>\n",
       "      <td>0</td>\n",
       "      <td>40.0</td>\n",
       "      <td>1</td>\n",
       "      <td>Thursday</td>\n",
       "      <td>SKU029_Health_South</td>\n",
       "      <td>0.854094</td>\n",
       "    </tr>\n",
       "    <tr>\n",
       "      <th>20404</th>\n",
       "      <td>2024-03-05</td>\n",
       "      <td>SKU029</td>\n",
       "      <td>Health</td>\n",
       "      <td>South</td>\n",
       "      <td>5.23</td>\n",
       "      <td>0</td>\n",
       "      <td>0</td>\n",
       "      <td>31.0</td>\n",
       "      <td>1</td>\n",
       "      <td>Tuesday</td>\n",
       "      <td>SKU029_Health_South</td>\n",
       "      <td>0.854094</td>\n",
       "    </tr>\n",
       "    <tr>\n",
       "      <th>20403</th>\n",
       "      <td>2024-03-04</td>\n",
       "      <td>SKU029</td>\n",
       "      <td>Health</td>\n",
       "      <td>South</td>\n",
       "      <td>5.23</td>\n",
       "      <td>0</td>\n",
       "      <td>0</td>\n",
       "      <td>20.0</td>\n",
       "      <td>1</td>\n",
       "      <td>Monday</td>\n",
       "      <td>SKU029_Health_South</td>\n",
       "      <td>0.854094</td>\n",
       "    </tr>\n",
       "    <tr>\n",
       "      <th>20402</th>\n",
       "      <td>2024-03-03</td>\n",
       "      <td>SKU029</td>\n",
       "      <td>Health</td>\n",
       "      <td>South</td>\n",
       "      <td>5.23</td>\n",
       "      <td>0</td>\n",
       "      <td>0</td>\n",
       "      <td>21.0</td>\n",
       "      <td>1</td>\n",
       "      <td>Sunday</td>\n",
       "      <td>SKU029_Health_South</td>\n",
       "      <td>0.854094</td>\n",
       "    </tr>\n",
       "    <tr>\n",
       "      <th>20401</th>\n",
       "      <td>2024-03-02</td>\n",
       "      <td>SKU029</td>\n",
       "      <td>Health</td>\n",
       "      <td>South</td>\n",
       "      <td>4.18</td>\n",
       "      <td>1</td>\n",
       "      <td>0</td>\n",
       "      <td>31.0</td>\n",
       "      <td>1</td>\n",
       "      <td>Saturday</td>\n",
       "      <td>SKU029_Health_South</td>\n",
       "      <td>0.854094</td>\n",
       "    </tr>\n",
       "    <tr>\n",
       "      <th>20400</th>\n",
       "      <td>2024-03-01</td>\n",
       "      <td>SKU029</td>\n",
       "      <td>Health</td>\n",
       "      <td>South</td>\n",
       "      <td>5.23</td>\n",
       "      <td>0</td>\n",
       "      <td>0</td>\n",
       "      <td>20.0</td>\n",
       "      <td>1</td>\n",
       "      <td>Friday</td>\n",
       "      <td>SKU029_Health_South</td>\n",
       "      <td>0.854094</td>\n",
       "    </tr>\n",
       "    <tr>\n",
       "      <th>20399</th>\n",
       "      <td>2024-02-29</td>\n",
       "      <td>SKU029</td>\n",
       "      <td>Health</td>\n",
       "      <td>South</td>\n",
       "      <td>5.23</td>\n",
       "      <td>0</td>\n",
       "      <td>0</td>\n",
       "      <td>24.0</td>\n",
       "      <td>5</td>\n",
       "      <td>Thursday</td>\n",
       "      <td>SKU029_Health_South</td>\n",
       "      <td>0.854094</td>\n",
       "    </tr>\n",
       "    <tr>\n",
       "      <th>20398</th>\n",
       "      <td>2024-02-28</td>\n",
       "      <td>SKU029</td>\n",
       "      <td>Health</td>\n",
       "      <td>South</td>\n",
       "      <td>5.23</td>\n",
       "      <td>0</td>\n",
       "      <td>0</td>\n",
       "      <td>29.0</td>\n",
       "      <td>4</td>\n",
       "      <td>Wednesday</td>\n",
       "      <td>SKU029_Health_South</td>\n",
       "      <td>0.854094</td>\n",
       "    </tr>\n",
       "    <tr>\n",
       "      <th>20397</th>\n",
       "      <td>2024-02-27</td>\n",
       "      <td>SKU029</td>\n",
       "      <td>Health</td>\n",
       "      <td>South</td>\n",
       "      <td>5.23</td>\n",
       "      <td>0</td>\n",
       "      <td>0</td>\n",
       "      <td>22.0</td>\n",
       "      <td>4</td>\n",
       "      <td>Tuesday</td>\n",
       "      <td>SKU029_Health_South</td>\n",
       "      <td>0.854094</td>\n",
       "    </tr>\n",
       "  </tbody>\n",
       "</table>\n",
       "</div>"
      ],
      "text/plain": [
       "            date  sku_id category region  price  promo_flag  stockout_flag  \\\n",
       "20386 2024-02-16  SKU029   Health  South   5.23           0              0   \n",
       "20406 2024-03-07  SKU029   Health  South   4.18           1              0   \n",
       "20404 2024-03-05  SKU029   Health  South   5.23           0              0   \n",
       "20403 2024-03-04  SKU029   Health  South   5.23           0              0   \n",
       "20402 2024-03-03  SKU029   Health  South   5.23           0              0   \n",
       "20401 2024-03-02  SKU029   Health  South   4.18           1              0   \n",
       "20400 2024-03-01  SKU029   Health  South   5.23           0              0   \n",
       "20399 2024-02-29  SKU029   Health  South   5.23           0              0   \n",
       "20398 2024-02-28  SKU029   Health  South   5.23           0              0   \n",
       "20397 2024-02-27  SKU029   Health  South   5.23           0              0   \n",
       "\n",
       "       demand  week_of_month day_of_week              item_id  \\\n",
       "20386    29.0              3      Friday  SKU029_Health_South   \n",
       "20406    40.0              1    Thursday  SKU029_Health_South   \n",
       "20404    31.0              1     Tuesday  SKU029_Health_South   \n",
       "20403    20.0              1      Monday  SKU029_Health_South   \n",
       "20402    21.0              1      Sunday  SKU029_Health_South   \n",
       "20401    31.0              1    Saturday  SKU029_Health_South   \n",
       "20400    20.0              1      Friday  SKU029_Health_South   \n",
       "20399    24.0              5    Thursday  SKU029_Health_South   \n",
       "20398    29.0              4   Wednesday  SKU029_Health_South   \n",
       "20397    22.0              4     Tuesday  SKU029_Health_South   \n",
       "\n",
       "       day_of_week_seas  \n",
       "20386          0.854094  \n",
       "20406          0.854094  \n",
       "20404          0.854094  \n",
       "20403          0.854094  \n",
       "20402          0.854094  \n",
       "20401          0.854094  \n",
       "20400          0.854094  \n",
       "20399          0.854094  \n",
       "20398          0.854094  \n",
       "20397          0.854094  "
      ]
     },
     "execution_count": 13,
     "metadata": {},
     "output_type": "execute_result"
    }
   ],
   "source": [
    "df['item_id'] = df[['sku_id', 'category', 'region']].apply(lambda x: '_'.join(x), axis=1)\n",
    "\n",
    "seasonality_measure = functools.partial(calc_seasonal_strength,\n",
    "                                        period=7)\n",
    "\n",
    "with WorkerPool(n_jobs=NUM_CPU_CORES) as pool:\n",
    "    list_seas_measure= pool.map_unordered(seasonality_measure, df.groupby('item_id'), progress_bar=True)\n",
    "    seas_result = pd.concat(list_seas_measure, axis=0)\n",
    "\n",
    "seas_result.rename(columns={'seas_strength': 'day_of_week_seas'}, inplace=True)\n",
    "df = df.merge(seas_result, on=['item_id'])\n",
    "df.sort_values(by='day_of_week_seas', ascending=False).head(10)"
   ]
  },
  {
   "cell_type": "code",
   "execution_count": 14,
   "metadata": {},
   "outputs": [
    {
     "name": "stderr",
     "output_type": "stream",
     "text": [
      "100%|██████████| 400/400 [00:00<00:00, 2714.24it/s]\n"
     ]
    }
   ],
   "source": [
    "wom_ht_measure = functools.partial(test_week_of_month_seasonality)\n",
    "\n",
    "with WorkerPool(n_jobs=NUM_CPU_CORES) as pool:\n",
    "    list_ht= pool.map_unordered(wom_ht_measure, df.groupby('item_id'), progress_bar=True)\n",
    "    ht_result = pd.concat(list_ht, axis=0)\n",
    "\n",
    "df = df.merge(ht_result, on=['item_id'])"
   ]
  },
  {
   "cell_type": "code",
   "execution_count": 20,
   "metadata": {},
   "outputs": [
    {
     "data": {
      "text/html": [
       "<div>\n",
       "<style scoped>\n",
       "    .dataframe tbody tr th:only-of-type {\n",
       "        vertical-align: middle;\n",
       "    }\n",
       "\n",
       "    .dataframe tbody tr th {\n",
       "        vertical-align: top;\n",
       "    }\n",
       "\n",
       "    .dataframe thead th {\n",
       "        text-align: right;\n",
       "    }\n",
       "</style>\n",
       "<table border=\"1\" class=\"dataframe\">\n",
       "  <thead>\n",
       "    <tr style=\"text-align: right;\">\n",
       "      <th></th>\n",
       "      <th>date</th>\n",
       "      <th>sku_id</th>\n",
       "      <th>category</th>\n",
       "      <th>region</th>\n",
       "      <th>price</th>\n",
       "      <th>promo_flag</th>\n",
       "      <th>stockout_flag</th>\n",
       "      <th>demand</th>\n",
       "      <th>week_of_month</th>\n",
       "      <th>day_of_week</th>\n",
       "      <th>item_id</th>\n",
       "      <th>day_of_week_seas</th>\n",
       "      <th>pvalue</th>\n",
       "    </tr>\n",
       "  </thead>\n",
       "  <tbody>\n",
       "    <tr>\n",
       "      <th>9267</th>\n",
       "      <td>2024-03-28</td>\n",
       "      <td>SKU013</td>\n",
       "      <td>Health</td>\n",
       "      <td>West</td>\n",
       "      <td>48.53</td>\n",
       "      <td>1</td>\n",
       "      <td>0</td>\n",
       "      <td>23.0</td>\n",
       "      <td>4</td>\n",
       "      <td>Thursday</td>\n",
       "      <td>SKU013_Health_West</td>\n",
       "      <td>0.645892</td>\n",
       "      <td>0.003226</td>\n",
       "    </tr>\n",
       "    <tr>\n",
       "      <th>9238</th>\n",
       "      <td>2024-02-28</td>\n",
       "      <td>SKU013</td>\n",
       "      <td>Health</td>\n",
       "      <td>West</td>\n",
       "      <td>60.66</td>\n",
       "      <td>0</td>\n",
       "      <td>0</td>\n",
       "      <td>18.0</td>\n",
       "      <td>4</td>\n",
       "      <td>Wednesday</td>\n",
       "      <td>SKU013_Health_West</td>\n",
       "      <td>0.645892</td>\n",
       "      <td>0.003226</td>\n",
       "    </tr>\n",
       "    <tr>\n",
       "      <th>9237</th>\n",
       "      <td>2024-02-27</td>\n",
       "      <td>SKU013</td>\n",
       "      <td>Health</td>\n",
       "      <td>West</td>\n",
       "      <td>60.66</td>\n",
       "      <td>0</td>\n",
       "      <td>0</td>\n",
       "      <td>19.0</td>\n",
       "      <td>4</td>\n",
       "      <td>Tuesday</td>\n",
       "      <td>SKU013_Health_West</td>\n",
       "      <td>0.645892</td>\n",
       "      <td>0.003226</td>\n",
       "    </tr>\n",
       "    <tr>\n",
       "      <th>9236</th>\n",
       "      <td>2024-02-26</td>\n",
       "      <td>SKU013</td>\n",
       "      <td>Health</td>\n",
       "      <td>West</td>\n",
       "      <td>60.66</td>\n",
       "      <td>0</td>\n",
       "      <td>0</td>\n",
       "      <td>29.0</td>\n",
       "      <td>4</td>\n",
       "      <td>Monday</td>\n",
       "      <td>SKU013_Health_West</td>\n",
       "      <td>0.645892</td>\n",
       "      <td>0.003226</td>\n",
       "    </tr>\n",
       "    <tr>\n",
       "      <th>9235</th>\n",
       "      <td>2024-02-25</td>\n",
       "      <td>SKU013</td>\n",
       "      <td>Health</td>\n",
       "      <td>West</td>\n",
       "      <td>60.66</td>\n",
       "      <td>0</td>\n",
       "      <td>0</td>\n",
       "      <td>16.0</td>\n",
       "      <td>4</td>\n",
       "      <td>Sunday</td>\n",
       "      <td>SKU013_Health_West</td>\n",
       "      <td>0.645892</td>\n",
       "      <td>0.003226</td>\n",
       "    </tr>\n",
       "  </tbody>\n",
       "</table>\n",
       "</div>"
      ],
      "text/plain": [
       "           date  sku_id category region  price  promo_flag  stockout_flag  \\\n",
       "9267 2024-03-28  SKU013   Health   West  48.53           1              0   \n",
       "9238 2024-02-28  SKU013   Health   West  60.66           0              0   \n",
       "9237 2024-02-27  SKU013   Health   West  60.66           0              0   \n",
       "9236 2024-02-26  SKU013   Health   West  60.66           0              0   \n",
       "9235 2024-02-25  SKU013   Health   West  60.66           0              0   \n",
       "\n",
       "      demand  week_of_month day_of_week             item_id  day_of_week_seas  \\\n",
       "9267    23.0              4    Thursday  SKU013_Health_West          0.645892   \n",
       "9238    18.0              4   Wednesday  SKU013_Health_West          0.645892   \n",
       "9237    19.0              4     Tuesday  SKU013_Health_West          0.645892   \n",
       "9236    29.0              4      Monday  SKU013_Health_West          0.645892   \n",
       "9235    16.0              4      Sunday  SKU013_Health_West          0.645892   \n",
       "\n",
       "        pvalue  \n",
       "9267  0.003226  \n",
       "9238  0.003226  \n",
       "9237  0.003226  \n",
       "9236  0.003226  \n",
       "9235  0.003226  "
      ]
     },
     "execution_count": 20,
     "metadata": {},
     "output_type": "execute_result"
    }
   ],
   "source": [
    "df.sort_values(by='pvalue').head(5)"
   ]
  },
  {
   "cell_type": "code",
   "execution_count": 15,
   "metadata": {},
   "outputs": [
    {
     "data": {
      "image/png": "[encoded data removed]",
      "text/plain": [
       "<Figure size 640x480 with 1 Axes>"
      ]
     },
     "metadata": {},
     "output_type": "display_data"
    }
   ],
   "source": [
    "plt.figure()\n",
    "sns.boxplot(x='day_of_week', y='demand', hue='day_of_week', data=df.query(\"item_id == 'SKU029_Health_South'\"))\n",
    "plt.tight_layout()"
   ]
  },
  {
   "cell_type": "code",
   "execution_count": 21,
   "metadata": {},
   "outputs": [
    {
     "data": {
      "image/png": "[encoded data removed]",
      "text/plain": [
       "<Figure size 640x480 with 1 Axes>"
      ]
     },
     "metadata": {},
     "output_type": "display_data"
    }
   ],
   "source": [
    "plt.figure()\n",
    "sns.boxplot(x='week_of_month', y='demand', hue='week_of_month', data=df.query(\"item_id == 'SKU013_Health_West'\"))\n",
    "plt.tight_layout()"
   ]
  },
  {
   "cell_type": "code",
   "execution_count": 39,
   "metadata": {},
   "outputs": [],
   "source": [
    "## Feature Engineering\n",
    "\n",
    "def eng_rolling_features(predictors: list, window_sizes: list):\n",
    "    '''\n",
    "    From: https://skforecast.org/0.14.0/user_guides/window-features-and-custom-features.html#rollingfeatures\n",
    "    'mean': the mean of the previous n values.\n",
    "    'std': the standard deviation of the previous n values.\n",
    "    'min': the minimum of the previous n values.\n",
    "    'max': the maximum of the previous n values.\n",
    "    'sum': the sum of the previous n values.\n",
    "    'median': the median of the previous n values.\n",
    "    'ratio_min_max': the ratio between the minimum and maximum of the previous n values.\n",
    "    'coef_variation': the coefficient of variation of the previous n values.\n",
    "    '''\n",
    "    pred_expanded = []\n",
    "\n",
    "    # Expand predictors to match window_size\n",
    "    # For eg, 2 predictors, mean & median, with window_size 1,7,14\n",
    "    # Expand predictors to match length of window size [mean,mean,mean,median,median,median]\n",
    "    # with window_size: [1,7,14,1,7,14]\n",
    "    for pred in predictors:\n",
    "        pred_expanded += [pred]*len(window_sizes)\n",
    "    \n",
    "    window_size_expanded = window_sizes*len(predictors)\n",
    "\n",
    "    print(f\"predictors: {pred_expanded}\")\n",
    "    print(f\"window size: {window_size_expanded}\")\n",
    "\n",
    "    return RollingFeatures(stats=pred_expanded, window_sizes=window_size_expanded)"
   ]
  },
  {
   "cell_type": "code",
   "execution_count": 40,
   "metadata": {},
   "outputs": [
    {
     "name": "stdout",
     "output_type": "stream",
     "text": [
      "predictors: ['mean', 'mean', 'mean', 'median', 'median', 'median']\n",
      "window size: [1, 7, 14, 1, 7, 14]\n"
     ]
    }
   ],
   "source": [
    "# Features for time series forecasting\n",
    "predictors = ['mean', 'median']\n",
    "window_sizes = [1, 7, 14]\n",
    "rolling_feats = eng_rolling_features(predictors, window_sizes)"
   ]
  },
  {
   "cell_type": "code",
   "execution_count": 60,
   "metadata": {},
   "outputs": [],
   "source": [
    "def _local_lgbm_forecast(id, \n",
    "                         df, \n",
    "                         lags,\n",
    "                         rolling_feats,\n",
    "                         forecast_periods, \n",
    "                         forecast_mode, \n",
    "                         target_col='target_col',\n",
    "                         exog_feats=None):\n",
    "    # 1. Recursive Multi-step Local LGBM Forecaster\n",
    "    if forecast_mode == 'recursive':\n",
    "        forecaster = ForecasterRecursive(\n",
    "                        regressor=LGBMRegressor(random_state=RANDOM_SEED, verbose=-1),\n",
    "                        lags=lags,\n",
    "                        window_features=rolling_feats\n",
    "                    )\n",
    "    # 2. Direct Multi-step Local LGBM Forecaster\n",
    "    elif forecast_mode == 'direct':\n",
    "        forecaster = ForecasterDirect(\n",
    "                        regressor=LGBMRegressor(random_state=RANDOM_SEED, verbose=-1),\n",
    "                        steps=forecast_periods,\n",
    "                        lags=lags,\n",
    "                        window_features=rolling_feats,\n",
    "                    )\n",
    "    if exog_feats:    \n",
    "        forecaster.fit(y=df[target_col],\n",
    "                       exog=df[exog_feats]\n",
    "                       )\n",
    "    else:\n",
    "        forecaster.fit(y=df[target_col]\n",
    "                       )\n",
    "    pred = forecaster.predict(steps=forecast_periods)\n",
    "    pred_df = pd.DataFrame({'forecast': pred})\n",
    "    pred_df[\"item_id\"] = id\n",
    "    pred_df['date_key'] = pd.date_range(df['date'].max()+pd.Timedelta(days=1),\n",
    "                                        df['date'].max()+pd.Timedelta(days=forecast_periods))\n",
    "    return pred_df\n",
    "\n",
    "\n",
    "def multi_threaded_local_lgbm_forecast(df, lags, rolling_feats, forecast_period, target_col, forecast_mode='recursive'):\n",
    "    with warnings.catch_warnings():\n",
    "        warnings.simplefilter(\"ignore\")\n",
    "        model = functools.partial(_local_lgbm_forecast,\n",
    "                                lags=lags,\n",
    "                                rolling_feats=rolling_feats,\n",
    "                                forecast_periods=forecast_period,\n",
    "                                forecast_mode=forecast_mode,\n",
    "                                target_col=target_col)\n",
    "        with WorkerPool(n_jobs=NUM_CPU_CORES) as pool:\n",
    "            list_forecast_lgbm = pool.map_unordered(model, df.groupby('item_id'), progress_bar=True)\n",
    "        forecast_result_lgbm = pd.concat(list_forecast_lgbm, axis=0)\n",
    "        return forecast_result_lgbm"
   ]
  },
  {
   "cell_type": "code",
   "execution_count": 61,
   "metadata": {},
   "outputs": [
    {
     "name": "stderr",
     "output_type": "stream",
     "text": [
      "100%|██████████| 400/400 [00:24<00:00, 20.23it/s]\n"
     ]
    }
   ],
   "source": [
    "local_recursive_forecasts = multi_threaded_local_lgbm_forecast(df, LAGS, rolling_feats, FORECAST_PERIOD, TARGET_COL)"
   ]
  },
  {
   "cell_type": "code",
   "execution_count": 65,
   "metadata": {},
   "outputs": [
    {
     "name": "stderr",
     "output_type": "stream",
     "text": [
      "100%|██████████| 400/400 [04:44<00:00,  3.15it/s]\n"
     ]
    }
   ],
   "source": [
    "local_direct_forecasts = multi_threaded_local_lgbm_forecast(df, LAGS, rolling_feats, FORECAST_PERIOD, TARGET_COL, forecast_mode='direct')"
   ]
  },
  {
   "cell_type": "code",
   "execution_count": 69,
   "metadata": {},
   "outputs": [],
   "source": [
    "# Transform the sales dataFrame in \"long format\" and returns a dict of series.\n",
    "series_dict = series_long_to_dict(\n",
    "    data=df,\n",
    "    series_id='item_id',\n",
    "    index='date',\n",
    "    values='demand',\n",
    "    freq='D'\n",
    ")"
   ]
  },
  {
   "cell_type": "code",
   "execution_count": 74,
   "metadata": {},
   "outputs": [
    {
     "name": "stderr",
     "output_type": "stream",
     "text": [
      "/opt/anaconda3/envs/vn1/lib/python3.9/site-packages/sklearn/utils/deprecation.py:151: FutureWarning: 'force_all_finite' was renamed to 'ensure_all_finite' in 1.6 and will be removed in 1.8.\n",
      "  warnings.warn(\n",
      "/opt/anaconda3/envs/vn1/lib/python3.9/site-packages/sklearn/utils/deprecation.py:151: FutureWarning: 'force_all_finite' was renamed to 'ensure_all_finite' in 1.6 and will be removed in 1.8.\n",
      "  warnings.warn(\n",
      "/opt/anaconda3/envs/vn1/lib/python3.9/site-packages/sklearn/utils/deprecation.py:151: FutureWarning: 'force_all_finite' was renamed to 'ensure_all_finite' in 1.6 and will be removed in 1.8.\n",
      "  warnings.warn(\n",
      "/opt/anaconda3/envs/vn1/lib/python3.9/site-packages/sklearn/utils/deprecation.py:151: FutureWarning: 'force_all_finite' was renamed to 'ensure_all_finite' in 1.6 and will be removed in 1.8.\n",
      "  warnings.warn(\n",
      "/opt/anaconda3/envs/vn1/lib/python3.9/site-packages/sklearn/utils/deprecation.py:151: FutureWarning: 'force_all_finite' was renamed to 'ensure_all_finite' in 1.6 and will be removed in 1.8.\n",
      "  warnings.warn(\n",
      "/opt/anaconda3/envs/vn1/lib/python3.9/site-packages/sklearn/utils/deprecation.py:151: FutureWarning: 'force_all_finite' was renamed to 'ensure_all_finite' in 1.6 and will be removed in 1.8.\n",
      "  warnings.warn(\n",
      "/opt/anaconda3/envs/vn1/lib/python3.9/site-packages/sklearn/utils/deprecation.py:151: FutureWarning: 'force_all_finite' was renamed to 'ensure_all_finite' in 1.6 and will be removed in 1.8.\n",
      "  warnings.warn(\n",
      "/opt/anaconda3/envs/vn1/lib/python3.9/site-packages/sklearn/utils/deprecation.py:151: FutureWarning: 'force_all_finite' was renamed to 'ensure_all_finite' in 1.6 and will be removed in 1.8.\n",
      "  warnings.warn(\n",
      "/opt/anaconda3/envs/vn1/lib/python3.9/site-packages/sklearn/utils/deprecation.py:151: FutureWarning: 'force_all_finite' was renamed to 'ensure_all_finite' in 1.6 and will be removed in 1.8.\n",
      "  warnings.warn(\n",
      "/opt/anaconda3/envs/vn1/lib/python3.9/site-packages/sklearn/utils/deprecation.py:151: FutureWarning: 'force_all_finite' was renamed to 'ensure_all_finite' in 1.6 and will be removed in 1.8.\n",
      "  warnings.warn(\n",
      "/opt/anaconda3/envs/vn1/lib/python3.9/site-packages/sklearn/utils/deprecation.py:151: FutureWarning: 'force_all_finite' was renamed to 'ensure_all_finite' in 1.6 and will be removed in 1.8.\n",
      "  warnings.warn(\n",
      "/opt/anaconda3/envs/vn1/lib/python3.9/site-packages/sklearn/utils/deprecation.py:151: FutureWarning: 'force_all_finite' was renamed to 'ensure_all_finite' in 1.6 and will be removed in 1.8.\n",
      "  warnings.warn(\n",
      "/opt/anaconda3/envs/vn1/lib/python3.9/site-packages/sklearn/utils/deprecation.py:151: FutureWarning: 'force_all_finite' was renamed to 'ensure_all_finite' in 1.6 and will be removed in 1.8.\n",
      "  warnings.warn(\n",
      "/opt/anaconda3/envs/vn1/lib/python3.9/site-packages/sklearn/utils/deprecation.py:151: FutureWarning: 'force_all_finite' was renamed to 'ensure_all_finite' in 1.6 and will be removed in 1.8.\n",
      "  warnings.warn(\n"
     ]
    }
   ],
   "source": [
    "# Global LightGBM:\n",
    "def global_lgbm_forecast(series_dict, rolling_feats, forecast_periods):\n",
    "    # 1. Recursive Multi-series Global LGBM Forecaster\n",
    "    forecaster = ForecasterRecursiveMultiSeries(\n",
    "                    regressor=LGBMRegressor(random_state=RANDOM_SEED, verbose=-1),\n",
    "                    lags=LAGS,\n",
    "                    window_features=rolling_feats,\n",
    "                    dropna_from_series=False\n",
    "                )\n",
    "\n",
    "    forecaster.fit(series=series_dict, suppress_warnings=True)\n",
    "    forecasts_df = forecaster.predict(steps=forecast_periods)\n",
    "    return forecasts_df\n",
    "\n",
    "forecast_result_global_lgbm_recursive = global_lgbm_forecast(series_dict, rolling_feats, FORECAST_PERIOD)\n",
    "forecast_result_global_lgbm_recursive.columns = ['forecast_' + c for c in forecast_result_global_lgbm_recursive.columns]\n",
    "forecast_result_global_lgbm_recursive['date'] = forecast_result_global_lgbm_recursive.index\n",
    "forecast_result_global_lgbm_recursive = pd.wide_to_long(forecast_result_global_lgbm_recursive, \n",
    "                                                        stubnames=['forecast_'], i=\"date\", j=\"item_id\",suffix='\\w+')\n"
   ]
  },
  {
   "cell_type": "code",
   "execution_count": 118,
   "metadata": {},
   "outputs": [],
   "source": [
    "local_recursive_forecasts.to_csv(\"results/local_recursive_forecasts.csv\", index=False)\n",
    "local_direct_forecasts.to_csv(\"results/local_direct_forecasts.csv\", index=False)\n",
    "forecast_result_global_lgbm_recursive.to_csv(\"results/global_recursive_forecasts.csv\", index=False)"
   ]
  },
  {
   "cell_type": "code",
   "execution_count": 119,
   "metadata": {},
   "outputs": [],
   "source": [
    "def evaluate_wape(targets, predictions):\n",
    "    '''\n",
    "    Returns a WAPE value (Weighted Average Percentage Error)\n",
    "        Parameters:\n",
    "            1. targets: A numpy array containing target values\n",
    "            2. predictions: A numpy array containing forecasts\n",
    "\n",
    "        Returns:\n",
    "            wape: WAPE of predictions vs targets\n",
    "    '''\n",
    "    resids_summed = np.sum(abs(targets-predictions))\n",
    "    targets_summed = np.sum(targets)\n",
    "    if targets_summed == 0:\n",
    "        return np.nan\n",
    "    wape = resids_summed/targets_summed\n",
    "    return wape"
   ]
  },
  {
   "cell_type": "code",
   "execution_count": null,
   "metadata": {},
   "outputs": [],
   "source": []
  }
 ],
 "metadata": {
  "kernelspec": {
   "display_name": "vn1",
   "language": "python",
   "name": "python3"
  },
  "language_info": {
   "codemirror_mode": {
    "name": "ipython",
    "version": 3
   },
   "file_extension": ".py",
   "mimetype": "text/x-python",
   "name": "python",
   "nbconvert_exporter": "python",
   "pygments_lexer": "ipython3",
   "version": "3.9.21"
  }
 },
 "nbformat": 4,
 "nbformat_minor": 2
}
